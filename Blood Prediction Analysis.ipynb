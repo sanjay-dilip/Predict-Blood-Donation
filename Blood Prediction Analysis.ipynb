{
 "cells": [
  {
   "cell_type": "markdown",
   "metadata": {
    "dc": {
     "key": "3"
    },
    "deletable": false,
    "editable": false,
    "run_control": {
     "frozen": true
    },
    "tags": [
     "context"
    ]
   },
   "source": [
    "## 1. Inspecting transfusion.data file\n",
    "<p><img src=\"https://assets.datacamp.com/production/project_646/img/blood_donation.png\" style=\"float: right;\" alt=\"A pictogram of a blood bag with blood donation written in it\" width=\"200\"></p>\n",
    "<p>Blood transfusion saves lives - from replacing lost blood during major surgery or a serious injury to treating various illnesses and blood disorders. Ensuring that there's enough blood in supply whenever needed is a serious challenge for the health professionals. According to <a href=\"https://www.webmd.com/a-to-z-guides/blood-transfusion-what-to-know#1\">WebMD</a>, \"about 5 million Americans need a blood transfusion every year\".</p>\n",
    "<p>Our dataset is from a mobile blood donation vehicle in Taiwan. The Blood Transfusion Service Center drives to different universities and collects blood as part of a blood drive. We want to predict whether or not a donor will give blood the next time the vehicle comes to campus.</p>\n",
    "<p>The data is stored in <code>datasets/transfusion.data</code> and it is structured according to RFMTC marketing model (a variation of RFM). We'll explore what that means later in this notebook. First, let's inspect the data.</p>"
   ]
  },
  {
   "cell_type": "code",
   "execution_count": 20,
   "metadata": {},
   "outputs": [
    {
     "name": "stdout",
     "output_type": "stream",
     "text": [
      "Collecting tpot\n",
      "  Downloading TPOT-0.12.1-py3-none-any.whl (87 kB)\n",
      "\u001b[2K     \u001b[90m━━━━━━━━━━━━━━━━━━━━━━━━━━━━━━━━━━━━━━━\u001b[0m \u001b[32m87.4/87.4 kB\u001b[0m \u001b[31m331.0 kB/s\u001b[0m eta \u001b[36m0:00:00\u001b[0ma \u001b[36m0:00:01\u001b[0m\n",
      "\u001b[?25hCollecting deap>=1.2\n",
      "  Downloading deap-1.4.1.tar.gz (1.1 MB)\n",
      "\u001b[2K     \u001b[90m━━━━━━━━━━━━━━━━━━━━━━━━━━━━━━━━━━━━━━━━\u001b[0m \u001b[32m1.1/1.1 MB\u001b[0m \u001b[31m723.9 kB/s\u001b[0m eta \u001b[36m0:00:00\u001b[0ma \u001b[36m0:00:01\u001b[0m\n",
      "\u001b[?25h  Preparing metadata (setup.py) ... \u001b[?25ldone\n",
      "\u001b[?25hCollecting update-checker>=0.16\n",
      "  Downloading update_checker-0.18.0-py3-none-any.whl (7.0 kB)\n",
      "Requirement already satisfied: joblib>=0.13.2 in /Users/sanjaydilip/anaconda3/lib/python3.10/site-packages (from tpot) (1.1.1)\n",
      "Requirement already satisfied: scipy>=1.3.1 in /Users/sanjaydilip/anaconda3/lib/python3.10/site-packages (from tpot) (1.10.0)\n",
      "Collecting stopit>=1.1.1\n",
      "  Downloading stopit-1.1.2.tar.gz (18 kB)\n",
      "  Preparing metadata (setup.py) ... \u001b[?25ldone\n",
      "\u001b[?25hRequirement already satisfied: tqdm>=4.36.1 in /Users/sanjaydilip/anaconda3/lib/python3.10/site-packages (from tpot) (4.64.1)\n",
      "Requirement already satisfied: numpy>=1.16.3 in /Users/sanjaydilip/anaconda3/lib/python3.10/site-packages (from tpot) (1.23.5)\n",
      "Collecting xgboost>=1.1.0\n",
      "  Downloading xgboost-2.0.0-py3-none-macosx_12_0_arm64.whl (1.9 MB)\n",
      "\u001b[2K     \u001b[90m━━━━━━━━━━━━━━━━━━━━━━━━━━━━━━━━━━━━━━━━\u001b[0m \u001b[32m1.9/1.9 MB\u001b[0m \u001b[31m476.1 kB/s\u001b[0m eta \u001b[36m0:00:00\u001b[0m00:01\u001b[0m00:01\u001b[0m\n",
      "\u001b[?25hRequirement already satisfied: pandas>=0.24.2 in /Users/sanjaydilip/anaconda3/lib/python3.10/site-packages (from tpot) (1.5.3)\n",
      "Requirement already satisfied: scikit-learn>=0.22.0 in /Users/sanjaydilip/anaconda3/lib/python3.10/site-packages (from tpot) (1.2.1)\n",
      "Requirement already satisfied: python-dateutil>=2.8.1 in /Users/sanjaydilip/anaconda3/lib/python3.10/site-packages (from pandas>=0.24.2->tpot) (2.8.2)\n",
      "Requirement already satisfied: pytz>=2020.1 in /Users/sanjaydilip/anaconda3/lib/python3.10/site-packages (from pandas>=0.24.2->tpot) (2022.7)\n",
      "Requirement already satisfied: threadpoolctl>=2.0.0 in /Users/sanjaydilip/anaconda3/lib/python3.10/site-packages (from scikit-learn>=0.22.0->tpot) (2.2.0)\n",
      "Requirement already satisfied: requests>=2.3.0 in /Users/sanjaydilip/anaconda3/lib/python3.10/site-packages (from update-checker>=0.16->tpot) (2.28.1)\n",
      "Requirement already satisfied: six>=1.5 in /Users/sanjaydilip/anaconda3/lib/python3.10/site-packages (from python-dateutil>=2.8.1->pandas>=0.24.2->tpot) (1.16.0)\n",
      "Requirement already satisfied: certifi>=2017.4.17 in /Users/sanjaydilip/anaconda3/lib/python3.10/site-packages (from requests>=2.3.0->update-checker>=0.16->tpot) (2022.12.7)\n",
      "Requirement already satisfied: idna<4,>=2.5 in /Users/sanjaydilip/anaconda3/lib/python3.10/site-packages (from requests>=2.3.0->update-checker>=0.16->tpot) (3.4)\n",
      "Requirement already satisfied: urllib3<1.27,>=1.21.1 in /Users/sanjaydilip/anaconda3/lib/python3.10/site-packages (from requests>=2.3.0->update-checker>=0.16->tpot) (1.26.14)\n",
      "Requirement already satisfied: charset-normalizer<3,>=2 in /Users/sanjaydilip/anaconda3/lib/python3.10/site-packages (from requests>=2.3.0->update-checker>=0.16->tpot) (2.0.4)\n",
      "Building wheels for collected packages: deap, stopit\n",
      "  Building wheel for deap (setup.py) ... \u001b[?25lerror\n",
      "  \u001b[1;31merror\u001b[0m: \u001b[1msubprocess-exited-with-error\u001b[0m\n",
      "  \n",
      "  \u001b[31m×\u001b[0m \u001b[32mpython setup.py bdist_wheel\u001b[0m did not run successfully.\n",
      "  \u001b[31m│\u001b[0m exit code: \u001b[1;36m1\u001b[0m\n",
      "  \u001b[31m╰─>\u001b[0m \u001b[31m[118 lines of output]\u001b[0m\n",
      "  \u001b[31m   \u001b[0m running bdist_wheel\n",
      "  \u001b[31m   \u001b[0m running build\n",
      "  \u001b[31m   \u001b[0m running build_py\n",
      "  \u001b[31m   \u001b[0m creating build\n",
      "  \u001b[31m   \u001b[0m creating build/lib.macosx-11.1-arm64-cpython-310\n",
      "  \u001b[31m   \u001b[0m creating build/lib.macosx-11.1-arm64-cpython-310/deap\n",
      "  \u001b[31m   \u001b[0m copying deap/cma.py -> build/lib.macosx-11.1-arm64-cpython-310/deap\n",
      "  \u001b[31m   \u001b[0m copying deap/algorithms.py -> build/lib.macosx-11.1-arm64-cpython-310/deap\n",
      "  \u001b[31m   \u001b[0m copying deap/gp.py -> build/lib.macosx-11.1-arm64-cpython-310/deap\n",
      "  \u001b[31m   \u001b[0m copying deap/__init__.py -> build/lib.macosx-11.1-arm64-cpython-310/deap\n",
      "  \u001b[31m   \u001b[0m copying deap/creator.py -> build/lib.macosx-11.1-arm64-cpython-310/deap\n",
      "  \u001b[31m   \u001b[0m copying deap/base.py -> build/lib.macosx-11.1-arm64-cpython-310/deap\n",
      "  \u001b[31m   \u001b[0m creating build/lib.macosx-11.1-arm64-cpython-310/deap/tools\n",
      "  \u001b[31m   \u001b[0m copying deap/tools/emo.py -> build/lib.macosx-11.1-arm64-cpython-310/deap/tools\n",
      "  \u001b[31m   \u001b[0m copying deap/tools/constraint.py -> build/lib.macosx-11.1-arm64-cpython-310/deap/tools\n",
      "  \u001b[31m   \u001b[0m copying deap/tools/support.py -> build/lib.macosx-11.1-arm64-cpython-310/deap/tools\n",
      "  \u001b[31m   \u001b[0m copying deap/tools/mutation.py -> build/lib.macosx-11.1-arm64-cpython-310/deap/tools\n",
      "  \u001b[31m   \u001b[0m copying deap/tools/indicator.py -> build/lib.macosx-11.1-arm64-cpython-310/deap/tools\n",
      "  \u001b[31m   \u001b[0m copying deap/tools/__init__.py -> build/lib.macosx-11.1-arm64-cpython-310/deap/tools\n",
      "  \u001b[31m   \u001b[0m copying deap/tools/crossover.py -> build/lib.macosx-11.1-arm64-cpython-310/deap/tools\n",
      "  \u001b[31m   \u001b[0m copying deap/tools/selection.py -> build/lib.macosx-11.1-arm64-cpython-310/deap/tools\n",
      "  \u001b[31m   \u001b[0m copying deap/tools/init.py -> build/lib.macosx-11.1-arm64-cpython-310/deap/tools\n",
      "  \u001b[31m   \u001b[0m copying deap/tools/migration.py -> build/lib.macosx-11.1-arm64-cpython-310/deap/tools\n",
      "  \u001b[31m   \u001b[0m creating build/lib.macosx-11.1-arm64-cpython-310/deap/benchmarks\n",
      "  \u001b[31m   \u001b[0m copying deap/benchmarks/binary.py -> build/lib.macosx-11.1-arm64-cpython-310/deap/benchmarks\n",
      "  \u001b[31m   \u001b[0m copying deap/benchmarks/gp.py -> build/lib.macosx-11.1-arm64-cpython-310/deap/benchmarks\n",
      "  \u001b[31m   \u001b[0m copying deap/benchmarks/tools.py -> build/lib.macosx-11.1-arm64-cpython-310/deap/benchmarks\n",
      "  \u001b[31m   \u001b[0m copying deap/benchmarks/__init__.py -> build/lib.macosx-11.1-arm64-cpython-310/deap/benchmarks\n",
      "  \u001b[31m   \u001b[0m copying deap/benchmarks/movingpeaks.py -> build/lib.macosx-11.1-arm64-cpython-310/deap/benchmarks\n",
      "  \u001b[31m   \u001b[0m creating build/lib.macosx-11.1-arm64-cpython-310/deap/tools/_hypervolume\n",
      "  \u001b[31m   \u001b[0m copying deap/tools/_hypervolume/__init__.py -> build/lib.macosx-11.1-arm64-cpython-310/deap/tools/_hypervolume\n",
      "  \u001b[31m   \u001b[0m copying deap/tools/_hypervolume/pyhv.py -> build/lib.macosx-11.1-arm64-cpython-310/deap/tools/_hypervolume\n",
      "  \u001b[31m   \u001b[0m running build_ext\n",
      "  \u001b[31m   \u001b[0m building 'deap.tools._hypervolume.hv' extension\n",
      "  \u001b[31m   \u001b[0m creating build/temp.macosx-11.1-arm64-cpython-310\n",
      "  \u001b[31m   \u001b[0m creating build/temp.macosx-11.1-arm64-cpython-310/deap\n",
      "  \u001b[31m   \u001b[0m creating build/temp.macosx-11.1-arm64-cpython-310/deap/tools\n",
      "  \u001b[31m   \u001b[0m creating build/temp.macosx-11.1-arm64-cpython-310/deap/tools/_hypervolume\n",
      "  \u001b[31m   \u001b[0m clang -Wno-unused-result -Wsign-compare -Wunreachable-code -DNDEBUG -fwrapv -O2 -Wall -fPIC -O2 -isystem /Users/sanjaydilip/anaconda3/include -arch arm64 -fPIC -O2 -isystem /Users/sanjaydilip/anaconda3/include -arch arm64 -I/Users/sanjaydilip/anaconda3/include/python3.10 -c deap/tools/_hypervolume/_hv.c -o build/temp.macosx-11.1-arm64-cpython-310/deap/tools/_hypervolume/_hv.o\n",
      "  \u001b[31m   \u001b[0m clang -Wno-unused-result -Wsign-compare -Wunreachable-code -DNDEBUG -fwrapv -O2 -Wall -fPIC -O2 -isystem /Users/sanjaydilip/anaconda3/include -arch arm64 -fPIC -O2 -isystem /Users/sanjaydilip/anaconda3/include -arch arm64 -I/Users/sanjaydilip/anaconda3/include/python3.10 -c deap/tools/_hypervolume/hv.cpp -o build/temp.macosx-11.1-arm64-cpython-310/deap/tools/_hypervolume/hv.o\n",
      "  \u001b[31m   \u001b[0m clang++ -bundle -undefined dynamic_lookup -Wl,-rpath,/Users/sanjaydilip/anaconda3/lib -L/Users/sanjaydilip/anaconda3/lib -Wl,-rpath,/Users/sanjaydilip/anaconda3/lib -L/Users/sanjaydilip/anaconda3/lib build/temp.macosx-11.1-arm64-cpython-310/deap/tools/_hypervolume/_hv.o build/temp.macosx-11.1-arm64-cpython-310/deap/tools/_hypervolume/hv.o -o build/lib.macosx-11.1-arm64-cpython-310/deap/tools/_hypervolume/hv.cpython-310-darwin.so\n",
      "  \u001b[31m   \u001b[0m ld: warning: duplicate -rpath '/Users/sanjaydilip/anaconda3/lib' ignored\n",
      "  \u001b[31m   \u001b[0m /Users/sanjaydilip/anaconda3/lib/python3.10/site-packages/setuptools/command/install.py:34: SetuptoolsDeprecationWarning: setup.py install is deprecated. Use build and pip and other standards-based tools.\n",
      "  \u001b[31m   \u001b[0m   warnings.warn(\n",
      "  \u001b[31m   \u001b[0m installing to build/bdist.macosx-11.1-arm64/wheel\n",
      "  \u001b[31m   \u001b[0m running install\n",
      "  \u001b[31m   \u001b[0m running install_lib\n",
      "  \u001b[31m   \u001b[0m creating build/bdist.macosx-11.1-arm64\n",
      "  \u001b[31m   \u001b[0m creating build/bdist.macosx-11.1-arm64/wheel\n",
      "  \u001b[31m   \u001b[0m creating build/bdist.macosx-11.1-arm64/wheel/deap\n",
      "  \u001b[31m   \u001b[0m copying build/lib.macosx-11.1-arm64-cpython-310/deap/cma.py -> build/bdist.macosx-11.1-arm64/wheel/deap\n",
      "  \u001b[31m   \u001b[0m creating build/bdist.macosx-11.1-arm64/wheel/deap/tools\n",
      "  \u001b[31m   \u001b[0m copying build/lib.macosx-11.1-arm64-cpython-310/deap/tools/emo.py -> build/bdist.macosx-11.1-arm64/wheel/deap/tools\n",
      "  \u001b[31m   \u001b[0m copying build/lib.macosx-11.1-arm64-cpython-310/deap/tools/constraint.py -> build/bdist.macosx-11.1-arm64/wheel/deap/tools\n",
      "  \u001b[31m   \u001b[0m copying build/lib.macosx-11.1-arm64-cpython-310/deap/tools/support.py -> build/bdist.macosx-11.1-arm64/wheel/deap/tools\n",
      "  \u001b[31m   \u001b[0m copying build/lib.macosx-11.1-arm64-cpython-310/deap/tools/mutation.py -> build/bdist.macosx-11.1-arm64/wheel/deap/tools\n",
      "  \u001b[31m   \u001b[0m copying build/lib.macosx-11.1-arm64-cpython-310/deap/tools/indicator.py -> build/bdist.macosx-11.1-arm64/wheel/deap/tools\n",
      "  \u001b[31m   \u001b[0m copying build/lib.macosx-11.1-arm64-cpython-310/deap/tools/__init__.py -> build/bdist.macosx-11.1-arm64/wheel/deap/tools\n",
      "  \u001b[31m   \u001b[0m creating build/bdist.macosx-11.1-arm64/wheel/deap/tools/_hypervolume\n",
      "  \u001b[31m   \u001b[0m copying build/lib.macosx-11.1-arm64-cpython-310/deap/tools/_hypervolume/__init__.py -> build/bdist.macosx-11.1-arm64/wheel/deap/tools/_hypervolume\n",
      "  \u001b[31m   \u001b[0m copying build/lib.macosx-11.1-arm64-cpython-310/deap/tools/_hypervolume/hv.cpython-310-darwin.so -> build/bdist.macosx-11.1-arm64/wheel/deap/tools/_hypervolume\n",
      "  \u001b[31m   \u001b[0m copying build/lib.macosx-11.1-arm64-cpython-310/deap/tools/_hypervolume/pyhv.py -> build/bdist.macosx-11.1-arm64/wheel/deap/tools/_hypervolume\n",
      "  \u001b[31m   \u001b[0m copying build/lib.macosx-11.1-arm64-cpython-310/deap/tools/crossover.py -> build/bdist.macosx-11.1-arm64/wheel/deap/tools\n",
      "  \u001b[31m   \u001b[0m copying build/lib.macosx-11.1-arm64-cpython-310/deap/tools/selection.py -> build/bdist.macosx-11.1-arm64/wheel/deap/tools\n",
      "  \u001b[31m   \u001b[0m copying build/lib.macosx-11.1-arm64-cpython-310/deap/tools/init.py -> build/bdist.macosx-11.1-arm64/wheel/deap/tools\n",
      "  \u001b[31m   \u001b[0m copying build/lib.macosx-11.1-arm64-cpython-310/deap/tools/migration.py -> build/bdist.macosx-11.1-arm64/wheel/deap/tools\n",
      "  \u001b[31m   \u001b[0m copying build/lib.macosx-11.1-arm64-cpython-310/deap/algorithms.py -> build/bdist.macosx-11.1-arm64/wheel/deap\n",
      "  \u001b[31m   \u001b[0m copying build/lib.macosx-11.1-arm64-cpython-310/deap/gp.py -> build/bdist.macosx-11.1-arm64/wheel/deap\n",
      "  \u001b[31m   \u001b[0m copying build/lib.macosx-11.1-arm64-cpython-310/deap/__init__.py -> build/bdist.macosx-11.1-arm64/wheel/deap\n",
      "  \u001b[31m   \u001b[0m creating build/bdist.macosx-11.1-arm64/wheel/deap/benchmarks\n",
      "  \u001b[31m   \u001b[0m copying build/lib.macosx-11.1-arm64-cpython-310/deap/benchmarks/binary.py -> build/bdist.macosx-11.1-arm64/wheel/deap/benchmarks\n",
      "  \u001b[31m   \u001b[0m copying build/lib.macosx-11.1-arm64-cpython-310/deap/benchmarks/gp.py -> build/bdist.macosx-11.1-arm64/wheel/deap/benchmarks\n",
      "  \u001b[31m   \u001b[0m copying build/lib.macosx-11.1-arm64-cpython-310/deap/benchmarks/tools.py -> build/bdist.macosx-11.1-arm64/wheel/deap/benchmarks\n",
      "  \u001b[31m   \u001b[0m copying build/lib.macosx-11.1-arm64-cpython-310/deap/benchmarks/__init__.py -> build/bdist.macosx-11.1-arm64/wheel/deap/benchmarks\n",
      "  \u001b[31m   \u001b[0m copying build/lib.macosx-11.1-arm64-cpython-310/deap/benchmarks/movingpeaks.py -> build/bdist.macosx-11.1-arm64/wheel/deap/benchmarks\n",
      "  \u001b[31m   \u001b[0m copying build/lib.macosx-11.1-arm64-cpython-310/deap/creator.py -> build/bdist.macosx-11.1-arm64/wheel/deap\n",
      "  \u001b[31m   \u001b[0m copying build/lib.macosx-11.1-arm64-cpython-310/deap/base.py -> build/bdist.macosx-11.1-arm64/wheel/deap\n",
      "  \u001b[31m   \u001b[0m running install_egg_info\n",
      "  \u001b[31m   \u001b[0m running egg_info\n",
      "  \u001b[31m   \u001b[0m writing deap.egg-info/PKG-INFO\n",
      "  \u001b[31m   \u001b[0m writing dependency_links to deap.egg-info/dependency_links.txt\n",
      "  \u001b[31m   \u001b[0m writing requirements to deap.egg-info/requires.txt\n",
      "  \u001b[31m   \u001b[0m writing top-level names to deap.egg-info/top_level.txt\n",
      "  \u001b[31m   \u001b[0m reading manifest file 'deap.egg-info/SOURCES.txt'\n",
      "  \u001b[31m   \u001b[0m reading manifest template 'MANIFEST.in'\n",
      "  \u001b[31m   \u001b[0m warning: no files found matching '*.hpp' under directory 'deap'\n",
      "  \u001b[31m   \u001b[0m warning: no files found matching '*.h' under directory 'examples'\n",
      "  \u001b[31m   \u001b[0m no previously-included directories found matching 'doc/_build'\n",
      "  \u001b[31m   \u001b[0m warning: no previously-included files matching '.DS_Store' found anywhere in distribution\n",
      "  \u001b[31m   \u001b[0m warning: no previously-included files matching '*.pyc' found anywhere in distribution\n",
      "  \u001b[31m   \u001b[0m adding license file 'LICENSE.txt'\n",
      "  \u001b[31m   \u001b[0m writing manifest file 'deap.egg-info/SOURCES.txt'\n",
      "  \u001b[31m   \u001b[0m Copying deap.egg-info to build/bdist.macosx-11.1-arm64/wheel/deap-1.4.1-py3.10.egg-info\n",
      "  \u001b[31m   \u001b[0m running install_scripts\n",
      "  \u001b[31m   \u001b[0m Traceback (most recent call last):\n",
      "  \u001b[31m   \u001b[0m   File \"<string>\", line 2, in <module>\n",
      "  \u001b[31m   \u001b[0m   File \"<pip-setuptools-caller>\", line 34, in <module>\n",
      "  \u001b[31m   \u001b[0m   File \"/private/var/folders/1f/6f0z03dx6vv938xkc8309_0w0000gn/T/pip-install-18onnf8i/deap_69e695dca5ca4f5f85502c9871cd8731/setup.py\", line 93, in <module>\n",
      "  \u001b[31m   \u001b[0m     run_setup(True)\n",
      "  \u001b[31m   \u001b[0m   File \"/private/var/folders/1f/6f0z03dx6vv938xkc8309_0w0000gn/T/pip-install-18onnf8i/deap_69e695dca5ca4f5f85502c9871cd8731/setup.py\", line 63, in run_setup\n",
      "  \u001b[31m   \u001b[0m     setup(name='deap',\n",
      "  \u001b[31m   \u001b[0m   File \"/Users/sanjaydilip/anaconda3/lib/python3.10/site-packages/setuptools/__init__.py\", line 87, in setup\n",
      "  \u001b[31m   \u001b[0m     return distutils.core.setup(**attrs)\n",
      "  \u001b[31m   \u001b[0m   File \"/Users/sanjaydilip/anaconda3/lib/python3.10/site-packages/setuptools/_distutils/core.py\", line 185, in setup\n",
      "  \u001b[31m   \u001b[0m     return run_commands(dist)\n",
      "  \u001b[31m   \u001b[0m   File \"/Users/sanjaydilip/anaconda3/lib/python3.10/site-packages/setuptools/_distutils/core.py\", line 201, in run_commands\n",
      "  \u001b[31m   \u001b[0m     dist.run_commands()\n",
      "  \u001b[31m   \u001b[0m   File \"/Users/sanjaydilip/anaconda3/lib/python3.10/site-packages/setuptools/_distutils/dist.py\", line 969, in run_commands\n",
      "  \u001b[31m   \u001b[0m     self.run_command(cmd)\n",
      "  \u001b[31m   \u001b[0m   File \"/Users/sanjaydilip/anaconda3/lib/python3.10/site-packages/setuptools/dist.py\", line 1208, in run_command\n",
      "  \u001b[31m   \u001b[0m     super().run_command(command)\n",
      "  \u001b[31m   \u001b[0m   File \"/Users/sanjaydilip/anaconda3/lib/python3.10/site-packages/setuptools/_distutils/dist.py\", line 988, in run_command\n",
      "  \u001b[31m   \u001b[0m     cmd_obj.run()\n",
      "  \u001b[31m   \u001b[0m   File \"/Users/sanjaydilip/anaconda3/lib/python3.10/site-packages/wheel/bdist_wheel.py\", line 328, in run\n",
      "  \u001b[31m   \u001b[0m     impl_tag, abi_tag, plat_tag = self.get_tag()\n",
      "  \u001b[31m   \u001b[0m   File \"/Users/sanjaydilip/anaconda3/lib/python3.10/site-packages/wheel/bdist_wheel.py\", line 278, in get_tag\n",
      "  \u001b[31m   \u001b[0m     assert tag in supported_tags, \"would build wheel with unsupported tag {}\".format(tag)\n",
      "  \u001b[31m   \u001b[0m AssertionError: would build wheel with unsupported tag ('cp310', 'cp310', 'macosx_11_1_arm64')\n",
      "  \u001b[31m   \u001b[0m \u001b[31m[end of output]\u001b[0m\n",
      "  \n",
      "  \u001b[1;35mnote\u001b[0m: This error originates from a subprocess, and is likely not a problem with pip.\n",
      "\u001b[31m  ERROR: Failed building wheel for deap\u001b[0m\u001b[31m\n",
      "\u001b[0m\u001b[?25h  Running setup.py clean for deap\n"
     ]
    },
    {
     "name": "stdout",
     "output_type": "stream",
     "text": [
      "  Building wheel for stopit (setup.py) ... \u001b[?25ldone\n",
      "\u001b[?25h  Created wheel for stopit: filename=stopit-1.1.2-py3-none-any.whl size=11938 sha256=f9d8cb020bf95ed7800b5340b995068ad2a7aecfe2f313297aacffc6ae1c87f0\n",
      "  Stored in directory: /Users/sanjaydilip/Library/Caches/pip/wheels/ac/b6/fc/67f7dd6291ee9a509bb12bb9b80773eed4b88bd55292ac672f\n",
      "Successfully built stopit\n",
      "Failed to build deap\n",
      "Installing collected packages: stopit, deap, xgboost, update-checker, tpot\n",
      "  Running setup.py install for deap ... \u001b[?25ldone\n",
      "\u001b[33m  DEPRECATION: deap was installed using the legacy 'setup.py install' method, because a wheel could not be built for it. pip 23.1 will enforce this behaviour change. A possible replacement is to fix the wheel build issue reported above. Discussion can be found at https://github.com/pypa/pip/issues/8368\u001b[0m\u001b[33m\n",
      "\u001b[0m\u001b[?25hSuccessfully installed deap-1.4.1 stopit-1.1.2 tpot-0.12.1 update-checker-0.18.0 xgboost-2.0.0\n",
      "Note: you may need to restart the kernel to use updated packages.\n"
     ]
    }
   ],
   "source": [
    "pip install tpot"
   ]
  },
  {
   "cell_type": "code",
   "execution_count": 2,
   "metadata": {
    "dc": {
     "key": "3"
    },
    "tags": [
     "sample_code"
    ]
   },
   "outputs": [
    {
     "name": "stdout",
     "output_type": "stream",
     "text": [
      "Recency (months),Frequency (times),Monetary (c.c. blood),Time (months),\"whether he/she donated blood in March 2007\"\r",
      "\r\n",
      "2 ,50,12500,98 ,1\r",
      "\r\n",
      "0 ,13,3250,28 ,1\r",
      "\r\n",
      "1 ,16,4000,35 ,1\r",
      "\r\n",
      "2 ,20,5000,45 ,1\r",
      "\r\n"
     ]
    }
   ],
   "source": [
    "# Print out the first 5 lines from the transfusion.data file\n",
    "!head -n 5 datasets/transfusion.data"
   ]
  },
  {
   "cell_type": "markdown",
   "metadata": {
    "dc": {
     "key": "10"
    },
    "deletable": false,
    "editable": false,
    "run_control": {
     "frozen": true
    },
    "tags": [
     "context"
    ]
   },
   "source": [
    "## 2. Loading the blood donations data\n",
    "<p>We now know that we are working with a typical CSV file (i.e., the delimiter is <code>,</code>, etc.). We proceed to loading the data into memory.</p>"
   ]
  },
  {
   "cell_type": "code",
   "execution_count": 2,
   "metadata": {
    "dc": {
     "key": "10"
    },
    "scrolled": false,
    "tags": [
     "sample_code"
    ]
   },
   "outputs": [
    {
     "data": {
      "text/html": [
       "<div>\n",
       "<style scoped>\n",
       "    .dataframe tbody tr th:only-of-type {\n",
       "        vertical-align: middle;\n",
       "    }\n",
       "\n",
       "    .dataframe tbody tr th {\n",
       "        vertical-align: top;\n",
       "    }\n",
       "\n",
       "    .dataframe thead th {\n",
       "        text-align: right;\n",
       "    }\n",
       "</style>\n",
       "<table border=\"1\" class=\"dataframe\">\n",
       "  <thead>\n",
       "    <tr style=\"text-align: right;\">\n",
       "      <th></th>\n",
       "      <th>Recency (months)</th>\n",
       "      <th>Frequency (times)</th>\n",
       "      <th>Monetary (c.c. blood)</th>\n",
       "      <th>Time (months)</th>\n",
       "      <th>whether he/she donated blood in March 2007</th>\n",
       "    </tr>\n",
       "  </thead>\n",
       "  <tbody>\n",
       "    <tr>\n",
       "      <th>0</th>\n",
       "      <td>2</td>\n",
       "      <td>50</td>\n",
       "      <td>12500</td>\n",
       "      <td>98</td>\n",
       "      <td>1</td>\n",
       "    </tr>\n",
       "    <tr>\n",
       "      <th>1</th>\n",
       "      <td>0</td>\n",
       "      <td>13</td>\n",
       "      <td>3250</td>\n",
       "      <td>28</td>\n",
       "      <td>1</td>\n",
       "    </tr>\n",
       "    <tr>\n",
       "      <th>2</th>\n",
       "      <td>1</td>\n",
       "      <td>16</td>\n",
       "      <td>4000</td>\n",
       "      <td>35</td>\n",
       "      <td>1</td>\n",
       "    </tr>\n",
       "    <tr>\n",
       "      <th>3</th>\n",
       "      <td>2</td>\n",
       "      <td>20</td>\n",
       "      <td>5000</td>\n",
       "      <td>45</td>\n",
       "      <td>1</td>\n",
       "    </tr>\n",
       "    <tr>\n",
       "      <th>4</th>\n",
       "      <td>1</td>\n",
       "      <td>24</td>\n",
       "      <td>6000</td>\n",
       "      <td>77</td>\n",
       "      <td>0</td>\n",
       "    </tr>\n",
       "  </tbody>\n",
       "</table>\n",
       "</div>"
      ],
      "text/plain": [
       "   Recency (months)  Frequency (times)  Monetary (c.c. blood)  Time (months)  \\\n",
       "0                 2                 50                  12500             98   \n",
       "1                 0                 13                   3250             28   \n",
       "2                 1                 16                   4000             35   \n",
       "3                 2                 20                   5000             45   \n",
       "4                 1                 24                   6000             77   \n",
       "\n",
       "   whether he/she donated blood in March 2007  \n",
       "0                                           1  \n",
       "1                                           1  \n",
       "2                                           1  \n",
       "3                                           1  \n",
       "4                                           0  "
      ]
     },
     "execution_count": 2,
     "metadata": {},
     "output_type": "execute_result"
    }
   ],
   "source": [
    "# Import pandas\n",
    "import pandas as pd\n",
    "\n",
    "\n",
    "# Read a text file with a custom delimiter into a DataFrame\n",
    "transfusion = pd.read_csv(\"datasets/transfusion.data\")\n",
    "\n",
    "\n",
    "# Print out the first rows of our dataset\n",
    "transfusion.head()"
   ]
  },
  {
   "cell_type": "markdown",
   "metadata": {
    "dc": {
     "key": "17"
    },
    "deletable": false,
    "editable": false,
    "run_control": {
     "frozen": true
    },
    "tags": [
     "context"
    ]
   },
   "source": [
    "## 3. Inspecting transfusion DataFrame\n",
    "<p>Let's briefly return to our discussion of RFM model. RFM stands for Recency, Frequency and Monetary Value and it is commonly used in marketing for identifying your best customers. In our case, our customers are blood donors.</p>\n",
    "<p>RFMTC is a variation of the RFM model. Below is a description of what each column means in our dataset:</p>\n",
    "<ul>\n",
    "<li>R (Recency - months since the last donation)</li>\n",
    "<li>F (Frequency - total number of donation)</li>\n",
    "<li>M (Monetary - total blood donated in c.c.)</li>\n",
    "<li>T (Time - months since the first donation)</li>\n",
    "<li>a binary variable representing whether he/she donated blood in March 2007 (1 stands for donating blood; 0 stands for not donating blood)</li>\n",
    "</ul>\n",
    "<p>It looks like every column in our DataFrame has the numeric type, which is exactly what we want when building a machine learning model. Let's verify our hypothesis.</p>"
   ]
  },
  {
   "cell_type": "code",
   "execution_count": 3,
   "metadata": {
    "dc": {
     "key": "17"
    },
    "tags": [
     "sample_code"
    ]
   },
   "outputs": [
    {
     "name": "stdout",
     "output_type": "stream",
     "text": [
      "<class 'pandas.core.frame.DataFrame'>\n",
      "RangeIndex: 748 entries, 0 to 747\n",
      "Data columns (total 5 columns):\n",
      " #   Column                                      Non-Null Count  Dtype\n",
      "---  ------                                      --------------  -----\n",
      " 0   Recency (months)                            748 non-null    int64\n",
      " 1   Frequency (times)                           748 non-null    int64\n",
      " 2   Monetary (c.c. blood)                       748 non-null    int64\n",
      " 3   Time (months)                               748 non-null    int64\n",
      " 4   whether he/she donated blood in March 2007  748 non-null    int64\n",
      "dtypes: int64(5)\n",
      "memory usage: 29.3 KB\n"
     ]
    }
   ],
   "source": [
    "# Print a concise summary of transfusion DataFrame\n",
    "transfusion.info()"
   ]
  },
  {
   "cell_type": "markdown",
   "metadata": {
    "dc": {
     "key": "24"
    },
    "deletable": false,
    "editable": false,
    "run_control": {
     "frozen": true
    },
    "tags": [
     "context"
    ]
   },
   "source": [
    "## 4. Creating target column\n",
    "<p>We are aiming to predict the value in <code>whether he/she donated blood in March 2007</code> column. Let's rename this it to <code>target</code> so that it's more convenient to work with.</p>"
   ]
  },
  {
   "cell_type": "code",
   "execution_count": 4,
   "metadata": {
    "dc": {
     "key": "24"
    },
    "tags": [
     "sample_code"
    ]
   },
   "outputs": [
    {
     "data": {
      "text/html": [
       "<div>\n",
       "<style scoped>\n",
       "    .dataframe tbody tr th:only-of-type {\n",
       "        vertical-align: middle;\n",
       "    }\n",
       "\n",
       "    .dataframe tbody tr th {\n",
       "        vertical-align: top;\n",
       "    }\n",
       "\n",
       "    .dataframe thead th {\n",
       "        text-align: right;\n",
       "    }\n",
       "</style>\n",
       "<table border=\"1\" class=\"dataframe\">\n",
       "  <thead>\n",
       "    <tr style=\"text-align: right;\">\n",
       "      <th></th>\n",
       "      <th>Recency (months)</th>\n",
       "      <th>Frequency (times)</th>\n",
       "      <th>Monetary (c.c. blood)</th>\n",
       "      <th>Time (months)</th>\n",
       "      <th>target</th>\n",
       "    </tr>\n",
       "  </thead>\n",
       "  <tbody>\n",
       "    <tr>\n",
       "      <th>0</th>\n",
       "      <td>2</td>\n",
       "      <td>50</td>\n",
       "      <td>12500</td>\n",
       "      <td>98</td>\n",
       "      <td>1</td>\n",
       "    </tr>\n",
       "    <tr>\n",
       "      <th>1</th>\n",
       "      <td>0</td>\n",
       "      <td>13</td>\n",
       "      <td>3250</td>\n",
       "      <td>28</td>\n",
       "      <td>1</td>\n",
       "    </tr>\n",
       "  </tbody>\n",
       "</table>\n",
       "</div>"
      ],
      "text/plain": [
       "   Recency (months)  Frequency (times)  Monetary (c.c. blood)  Time (months)  \\\n",
       "0                 2                 50                  12500             98   \n",
       "1                 0                 13                   3250             28   \n",
       "\n",
       "   target  \n",
       "0       1  \n",
       "1       1  "
      ]
     },
     "execution_count": 4,
     "metadata": {},
     "output_type": "execute_result"
    }
   ],
   "source": [
    "# Rename target column as 'target' for brevity \n",
    "transfusion.rename(\n",
    "    columns={'whether he/she donated blood in March 2007': 'target'},\n",
    "    inplace=True\n",
    ")\n",
    "\n",
    "# Print out the first 2 rows\n",
    "transfusion.head(2)"
   ]
  },
  {
   "cell_type": "markdown",
   "metadata": {
    "dc": {
     "key": "31"
    },
    "deletable": false,
    "editable": false,
    "run_control": {
     "frozen": true
    },
    "tags": [
     "context"
    ]
   },
   "source": [
    "## 5. Checking target incidence\n",
    "<p>We want to predict whether or not the same donor will give blood the next time the vehicle comes to campus. The model for this is a binary classifier, meaning that there are only 2 possible outcomes:</p>\n",
    "<ul>\n",
    "<li><code>0</code> - the donor will not give blood</li>\n",
    "<li><code>1</code> - the donor will give blood</li>\n",
    "</ul>\n",
    "<p>Target incidence is defined as the number of cases of each individual target value in a dataset. That is, how many 0s in the target column compared to how many 1s? Target incidence gives us an idea of how balanced (or imbalanced) is our dataset.</p>"
   ]
  },
  {
   "cell_type": "code",
   "execution_count": 5,
   "metadata": {
    "dc": {
     "key": "31"
    },
    "tags": [
     "sample_code"
    ]
   },
   "outputs": [
    {
     "data": {
      "text/plain": [
       "0    0.762\n",
       "1    0.238\n",
       "Name: target, dtype: float64"
      ]
     },
     "execution_count": 5,
     "metadata": {},
     "output_type": "execute_result"
    }
   ],
   "source": [
    "# Print target incidence proportions, rounding output to 3 decimal places\n",
    "transfusion['target'].value_counts(normalize=True).round(3)"
   ]
  },
  {
   "cell_type": "markdown",
   "metadata": {
    "dc": {
     "key": "38"
    },
    "deletable": false,
    "editable": false,
    "run_control": {
     "frozen": true
    },
    "tags": [
     "context"
    ]
   },
   "source": [
    "## 6. Splitting transfusion into train and test datasets\n",
    "<p>We'll now use <code>train_test_split()</code> method to split <code>transfusion</code> DataFrame.</p>\n",
    "<p>Target incidence informed us that in our dataset <code>0</code>s appear 76% of the time. We want to keep the same structure in train and test datasets, i.e., both datasets must have 0 target incidence of 76%. This is very easy to do using the <code>train_test_split()</code> method from the <code>scikit learn</code> library - all we need to do is specify the <code>stratify</code> parameter. In our case, we'll stratify on the <code>target</code> column.</p>"
   ]
  },
  {
   "cell_type": "code",
   "execution_count": 6,
   "metadata": {
    "dc": {
     "key": "38"
    },
    "tags": [
     "sample_code"
    ]
   },
   "outputs": [
    {
     "data": {
      "text/html": [
       "<div>\n",
       "<style scoped>\n",
       "    .dataframe tbody tr th:only-of-type {\n",
       "        vertical-align: middle;\n",
       "    }\n",
       "\n",
       "    .dataframe tbody tr th {\n",
       "        vertical-align: top;\n",
       "    }\n",
       "\n",
       "    .dataframe thead th {\n",
       "        text-align: right;\n",
       "    }\n",
       "</style>\n",
       "<table border=\"1\" class=\"dataframe\">\n",
       "  <thead>\n",
       "    <tr style=\"text-align: right;\">\n",
       "      <th></th>\n",
       "      <th>Recency (months)</th>\n",
       "      <th>Frequency (times)</th>\n",
       "      <th>Monetary (c.c. blood)</th>\n",
       "      <th>Time (months)</th>\n",
       "    </tr>\n",
       "  </thead>\n",
       "  <tbody>\n",
       "    <tr>\n",
       "      <th>334</th>\n",
       "      <td>16</td>\n",
       "      <td>2</td>\n",
       "      <td>500</td>\n",
       "      <td>16</td>\n",
       "    </tr>\n",
       "    <tr>\n",
       "      <th>99</th>\n",
       "      <td>5</td>\n",
       "      <td>7</td>\n",
       "      <td>1750</td>\n",
       "      <td>26</td>\n",
       "    </tr>\n",
       "  </tbody>\n",
       "</table>\n",
       "</div>"
      ],
      "text/plain": [
       "     Recency (months)  Frequency (times)  Monetary (c.c. blood)  Time (months)\n",
       "334                16                  2                    500             16\n",
       "99                  5                  7                   1750             26"
      ]
     },
     "execution_count": 6,
     "metadata": {},
     "output_type": "execute_result"
    }
   ],
   "source": [
    "# Import train_test_split method\n",
    "from sklearn.model_selection import train_test_split\n",
    "\n",
    "# Split transfusion DataFrame into\n",
    "# X_train, X_test, y_train and y_test datasets,\n",
    "# stratifying on the `target` column\n",
    "X_train, X_test, y_train, y_test = train_test_split(\n",
    "    transfusion.drop(columns='target'),\n",
    "    transfusion.target,\n",
    "    test_size=0.25,\n",
    "    random_state=42,\n",
    "    stratify=transfusion['target']\n",
    ")\n",
    "\n",
    "# Print out the first 2 rows of X_train\n",
    "X_train.head(2)"
   ]
  },
  {
   "cell_type": "markdown",
   "metadata": {
    "dc": {
     "key": "45"
    },
    "deletable": false,
    "editable": false,
    "run_control": {
     "frozen": true
    },
    "tags": [
     "context"
    ]
   },
   "source": [
    "## 7. Selecting model using TPOT\n",
    "<p><a href=\"https://github.com/EpistasisLab/tpot\">TPOT</a> is a Python Automated Machine Learning tool that optimizes machine learning pipelines using genetic programming.</p>\n",
    "<p><img src=\"https://assets.datacamp.com/production/project_646/img/tpot-ml-pipeline.png\" alt=\"TPOT Machine Learning Pipeline\"></p>\n",
    "<p>TPOT will automatically explore hundreds of possible pipelines to find the best one for our dataset. Note, the outcome of this search will be a <a href=\"https://scikit-learn.org/stable/modules/generated/sklearn.pipeline.Pipeline.html\">scikit-learn pipeline</a>, meaning it will include any pre-processing steps as well as the model.</p>\n",
    "<p>We are using TPOT to help us zero in on one model that we can then explore and optimize further.</p>"
   ]
  },
  {
   "cell_type": "code",
   "execution_count": 7,
   "metadata": {
    "dc": {
     "key": "45"
    },
    "tags": [
     "sample_code"
    ]
   },
   "outputs": [
    {
     "data": {
      "application/vnd.jupyter.widget-view+json": {
       "model_id": "",
       "version_major": 2,
       "version_minor": 0
      },
      "text/plain": [
       "Optimization Progress:   0%|          | 0/120 [00:00<?, ?pipeline/s]"
      ]
     },
     "metadata": {},
     "output_type": "display_data"
    },
    {
     "name": "stdout",
     "output_type": "stream",
     "text": [
      "\n",
      "Generation 1 - Current best internal CV score: 0.7422459184429089\n",
      "\n",
      "Generation 2 - Current best internal CV score: 0.7422459184429089\n",
      "\n",
      "Generation 3 - Current best internal CV score: 0.7423330644124078\n",
      "\n",
      "Generation 4 - Current best internal CV score: 0.7423330644124078\n",
      "\n",
      "Generation 5 - Current best internal CV score: 0.7423330644124078\n",
      "\n",
      "Best pipeline: LogisticRegression(RobustScaler(input_matrix), C=25.0, dual=False, penalty=l2)\n",
      "\n",
      "AUC score: 0.7858\n",
      "\n",
      "Best pipeline steps:\n",
      "1. RobustScaler()\n",
      "2. LogisticRegression(C=25.0, random_state=42)\n"
     ]
    }
   ],
   "source": [
    "# Import TPOTClassifier and roc_auc_score\n",
    "from tpot import TPOTClassifier\n",
    "from sklearn.metrics import roc_auc_score\n",
    "\n",
    "# Instantiate TPOTClassifier\n",
    "tpot = TPOTClassifier(\n",
    "    generations=5,\n",
    "    population_size=20,\n",
    "    verbosity=2,\n",
    "    scoring='roc_auc',\n",
    "    random_state=42,\n",
    "    disable_update_check=True,\n",
    "    config_dict='TPOT light'\n",
    ")\n",
    "tpot.fit(X_train, y_train)\n",
    "\n",
    "# AUC score for tpot model\n",
    "tpot_auc_score = roc_auc_score(y_test, tpot.predict_proba(X_test)[:, 1])\n",
    "print(f'\\nAUC score: {tpot_auc_score:.4f}')\n",
    "\n",
    "# Print best pipeline steps\n",
    "print('\\nBest pipeline steps:', end='\\n')\n",
    "for idx, (name, transform) in enumerate(tpot.fitted_pipeline_.steps, start=1):\n",
    "    # Print idx and transform\n",
    "    print(f'{idx}. {transform}')"
   ]
  },
  {
   "cell_type": "markdown",
   "metadata": {
    "dc": {
     "key": "52"
    },
    "deletable": false,
    "editable": false,
    "run_control": {
     "frozen": true
    },
    "tags": [
     "context"
    ]
   },
   "source": [
    "## 8. Checking the variance\n",
    "<p>TPOT picked <code>LogisticRegression</code> as the best model for our dataset with no pre-processing steps, giving us the AUC score of 0.7850. This is a great starting point. Let's see if we can make it better.</p>\n",
    "<p>One of the assumptions for linear regression models is that the data and the features we are giving it are related in a linear fashion, or can be measured with a linear distance metric. If a feature in our dataset has a high variance that's an order of magnitude or more greater than the other features, this could impact the model's ability to learn from other features in the dataset.</p>\n",
    "<p>Correcting for high variance is called normalization. It is one of the possible transformations you do before training a model. Let's check the variance to see if such transformation is needed.</p>"
   ]
  },
  {
   "cell_type": "code",
   "execution_count": 8,
   "metadata": {
    "dc": {
     "key": "52"
    },
    "tags": [
     "sample_code"
    ]
   },
   "outputs": [
    {
     "name": "stdout",
     "output_type": "stream",
     "text": [
      "Recency (months)              66.810\n",
      "Frequency (times)             33.770\n",
      "Monetary (c.c. blood)    2110594.781\n",
      "Time (months)                610.057\n",
      "dtype: float64\n"
     ]
    }
   ],
   "source": [
    "# X_train's variance, rounding the output to 3 decimal places\n",
    "import numpy as np\n",
    "variance=np.var(X_train)\n",
    "variance_rounded=round(variance,3)\n",
    "print(variance_rounded)"
   ]
  },
  {
   "cell_type": "markdown",
   "metadata": {
    "dc": {
     "key": "59"
    },
    "deletable": false,
    "editable": false,
    "run_control": {
     "frozen": true
    },
    "tags": [
     "context"
    ]
   },
   "source": [
    "## 9. Log normalization\n",
    "<p><code>Monetary (c.c. blood)</code>'s variance is very high in comparison to any other column in the dataset. This means that, unless accounted for, this feature may get more weight by the model (i.e., be seen as more important) than any other feature.</p>\n",
    "<p>One way to correct for high variance is to use log normalization.</p>"
   ]
  },
  {
   "cell_type": "code",
   "execution_count": 10,
   "metadata": {
    "dc": {
     "key": "59"
    },
    "tags": [
     "sample_code"
    ]
   },
   "outputs": [
    {
     "name": "stdout",
     "output_type": "stream",
     "text": [
      "Recency (months)      66.810\n",
      "Frequency (times)     33.770\n",
      "Time (months)        610.057\n",
      "monetary_log           0.836\n",
      "dtype: float64\n"
     ]
    }
   ],
   "source": [
    "# Import numpy\n",
    "import numpy as np\n",
    "\n",
    "# Copy X_train and X_test into X_train_normed and X_test_normed\n",
    "X_train_normed, X_test_normed = X_train.copy(), X_test.copy()\n",
    "\n",
    "# Specify which column to normalize\n",
    "col_to_normalize = 'Monetary (c.c. blood)'\n",
    "\n",
    "# Log normalization\n",
    "for df_ in [X_train_normed, X_test_normed]:\n",
    "    # Add log normalized column\n",
    "    df_['monetary_log'] = np.log(df_[col_to_normalize])\n",
    "    # Drop the original column\n",
    "    df_.drop(columns='Monetary (c.c. blood)', inplace=True)\n",
    "\n",
    "# Check the variance for X_train_normed\n",
    "variance_norm=np.var(X_train_normed)\n",
    "variance_rounded_norm=round(variance_norm,3)\n",
    "print(variance_rounded_norm)"
   ]
  },
  {
   "cell_type": "markdown",
   "metadata": {
    "dc": {
     "key": "66"
    },
    "deletable": false,
    "editable": false,
    "run_control": {
     "frozen": true
    },
    "tags": [
     "context"
    ]
   },
   "source": [
    "## 10. Training the linear regression model\n",
    "<p>The variance looks much better now. Notice that now <code>Time (months)</code> has the largest variance, but it's not the <a href=\"https://en.wikipedia.org/wiki/Order_of_magnitude\">orders of magnitude</a> higher than the rest of the variables, so we'll leave it as is.</p>\n",
    "<p>We are now ready to train the linear regression model.</p>"
   ]
  },
  {
   "cell_type": "code",
   "execution_count": 11,
   "metadata": {
    "dc": {
     "key": "66"
    },
    "tags": [
     "sample_code"
    ]
   },
   "outputs": [
    {
     "name": "stdout",
     "output_type": "stream",
     "text": [
      "\n",
      "AUC score: 0.7891\n"
     ]
    }
   ],
   "source": [
    "# Importing modules\n",
    "from sklearn.linear_model import LogisticRegression\n",
    "\n",
    "# Instantiate LogisticRegression\n",
    "logreg = LogisticRegression(\n",
    "    t='liblinear',\n",
    "    random_state=42\n",
    ")\n",
    "\n",
    "# Train the model\n",
    "logreg.fit(X_train_normed, y_train)\n",
    "\n",
    "# AUC score for tpot model\n",
    "logreg_auc_score = roc_auc_score(y_test, logreg.predict_proba(X_test_normed)[:, 1])\n",
    "print(f'\\nAUC score: {logreg_auc_score:.4f}')"
   ]
  },
  {
   "cell_type": "markdown",
   "metadata": {
    "dc": {
     "key": "73"
    },
    "deletable": false,
    "editable": false,
    "run_control": {
     "frozen": true
    },
    "tags": [
     "context"
    ]
   },
   "source": [
    "## 11. Conclusion\n",
    "<p>The demand for blood fluctuates throughout the year. As one <a href=\"https://www.kjrh.com/news/local-news/red-cross-in-blood-donation-crisis\">prominent</a> example, blood donations slow down during busy holiday seasons. An accurate forecast for the future supply of blood allows for an appropriate action to be taken ahead of time and therefore saving more lives.</p>\n",
    "<p>In this notebook, we explored automatic model selection using TPOT and AUC score we got was 0.7850. This is better than simply choosing <code>0</code> all the time (the target incidence suggests that such a model would have 76% success rate). We then log normalized our training data and improved the AUC score by 0.5%. In the field of machine learning, even small improvements in accuracy can be important, depending on the purpose.</p>\n",
    "<p>Another benefit of using logistic regression model is that it is interpretable. We can analyze how much of the variance in the response variable (<code>target</code>) can be explained by other variables in our dataset.</p>"
   ]
  },
  {
   "cell_type": "code",
   "execution_count": 12,
   "metadata": {
    "dc": {
     "key": "73"
    },
    "tags": [
     "sample_code"
    ]
   },
   "outputs": [
    {
     "data": {
      "text/plain": [
       "[('logreg', 0.7890972663699937), ('tpot', 0.7857596948506039)]"
      ]
     },
     "execution_count": 12,
     "metadata": {},
     "output_type": "execute_result"
    }
   ],
   "source": [
    "# Importing itemgetter\n",
    "from operator import itemgetter\n",
    "\n",
    "# Sort models based on their AUC score from highest to lowest\n",
    "sorted(\n",
    "    [('tpot', tpot_auc_score), ('logreg', logreg_auc_score)],\n",
    "    key=itemgetter(1),\n",
    "    reverse=True\n",
    ")"
   ]
  }
 ],
 "metadata": {
  "kernelspec": {
   "display_name": "Python 3 (ipykernel)",
   "language": "python",
   "name": "python3"
  },
  "language_info": {
   "codemirror_mode": {
    "name": "ipython",
    "version": 3
   },
   "file_extension": ".py",
   "mimetype": "text/x-python",
   "name": "python",
   "nbconvert_exporter": "python",
   "pygments_lexer": "ipython3",
   "version": "3.10.9"
  }
 },
 "nbformat": 4,
 "nbformat_minor": 2
}
